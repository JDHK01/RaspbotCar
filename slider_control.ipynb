{
 "cells": [
  {
   "cell_type": "markdown",
   "id": "3d3ed435f398ecf",
   "metadata": {},
   "source": [
    "### 库导入"
   ]
  },
  {
   "cell_type": "code",
   "id": "72bec0e64dd55e80",
   "metadata": {
    "ExecuteTime": {
     "end_time": "2025-05-03T14:39:35.062341Z",
     "start_time": "2025-05-03T14:39:34.778677Z"
    }
   },
   "source": [
    "import cv2\n",
    "import numpy as np\n",
    "import ipywidgets as widgets\n",
    "from IPython.display import display, clear_output\n",
    "import threading\n",
    "import time"
   ],
   "outputs": [],
   "execution_count": 1
  },
  {
   "cell_type": "markdown",
   "id": "fb59d1846fec4b1a",
   "metadata": {},
   "source": [
    "### 全局变量"
   ]
  },
  {
   "cell_type": "code",
   "id": "17fb6891233c8437",
   "metadata": {
    "ExecuteTime": {
     "end_time": "2025-05-03T14:40:18.889642Z",
     "start_time": "2025-05-03T14:40:18.883876Z"
    }
   },
   "source": [
    "playing = False\n",
    "frame_lock = threading.Lock()"
   ],
   "outputs": [],
   "execution_count": 2
  },
  {
   "cell_type": "markdown",
   "id": "87a0c3a20ccc63fe",
   "metadata": {},
   "source": [
    "### 自定义函数"
   ]
  },
  {
   "cell_type": "code",
   "id": "1e9e61d93e0b70a7",
   "metadata": {
    "ExecuteTime": {
     "end_time": "2025-05-03T14:40:22.760015Z",
     "start_time": "2025-05-03T14:40:22.750496Z"
    }
   },
   "source": [
    "# 图像处理\n",
    "def process_frame(frame):\n",
    "    # 整理各个参数的范围\n",
    "    LOWEST = slider_lowest.value\n",
    "    lower_red1 = np.array([slider_red1_h.value[0], slider_red1_s.value[0], slider_red1_v.value[0]])\n",
    "    upper_red1 = np.array([slider_red1_h.value[1], slider_red1_s.value[1], slider_red1_v.value[1]])\n",
    "    lower_red2 = np.array([slider_red2_h.value[0], slider_red2_s.value[0], slider_red2_v.value[0]])\n",
    "    upper_red2 = np.array([slider_red2_h.value[1], slider_red2_s.value[1], slider_red2_v.value[1]])\n",
    "    # 转为hsv色彩空间\n",
    "    hsv = cv2.cvtColor(frame, cv2.COLOR_BGR2HSV)\n",
    "    # 掩膜\n",
    "    mask1 = cv2.inRange(hsv, lower_red1, upper_red1)\n",
    "    mask2 = cv2.inRange(hsv, lower_red2, upper_red2)\n",
    "    mask = cv2.bitwise_or(mask1, mask2)\n",
    "    # 降噪和膨胀\n",
    "    kernel = np.ones((3, 3), np.uint8)\n",
    "    mask = cv2.erode(mask, kernel, iterations=1)\n",
    "    mask = cv2.dilate(mask, kernel, iterations=2)\n",
    "    # 圈出轮廓\n",
    "    contours, _ = cv2.findContours(mask, cv2.RETR_EXTERNAL, cv2.CHAIN_APPROX_SIMPLE)\n",
    "    draw = frame.copy()# draw十用来frame的副本，专门用来修改\n",
    "    # 通过轮廓，计算面积，找出范围\n",
    "    i = 0\n",
    "    for c in contours:\n",
    "        area = cv2.contourArea(c)\n",
    "        if LOWEST < area < 500:\n",
    "            i+=1\n",
    "            x, y, w, h = cv2.boundingRect(c)\n",
    "            cv2.rectangle(draw, (x, y), (x+w, y+h), (0, 255, 0), 2)\n",
    "    text1 = f'count:{i}'\n",
    "    font = cv2.FONT_HERSHEY_SIMPLEX\n",
    "    font_scale = 1\n",
    "    color = (255, 255, 255)\n",
    "    thickness = 1\n",
    "    cv2.putText(mask, text1, (350, 100), font, font_scale, color, thickness)\n",
    "    match i:\n",
    "        case 1:\n",
    "            text2 = 'red,success,wait'\n",
    "        case 0:\n",
    "            text2 = 'green,success,go'\n",
    "        case _:\n",
    "            text2 = 'too much,wrong'\n",
    "    cv2.putText(mask, text2, (350, 120), font, font_scale, color, thickness)\n",
    "    return draw, mask\n",
    "\n",
    "# 转换为jpeg格式\n",
    "# 掩膜是单通道，先转换为三通道再转为jpg\n",
    "def to_jpeg_bytes(frame, is_mask=False):\n",
    "    if is_mask:\n",
    "        frame = cv2.cvtColor(frame, cv2.COLOR_GRAY2BGR)\n",
    "    _, jpeg = cv2.imencode('.jpg', frame)\n",
    "    return jpeg.tobytes()\n",
    "\n",
    "# 播放线程：受全局变量 playing 控制\n",
    "# 加上进程锁，一次只能一个访问这段代码\n",
    "def play_video():\n",
    "    global playing\n",
    "    while playing:\n",
    "        with frame_lock:\n",
    "            ret, frame = cap.read()\n",
    "            # 如果播放完毕，从头开始播放\n",
    "            #-----------------------有限帧率的循环播放处理----------------------\n",
    "            if not ret:\n",
    "                cap.set(cv2.CAP_PROP_POS_FRAMES, 0)\n",
    "                continue\n",
    "            # 播放的时候，对每一帧进行处理\n",
    "            processed, mask = process_frame(frame)\n",
    "            image_processed.value = to_jpeg_bytes(processed)\n",
    "            image_mask.value = to_jpeg_bytes(mask, is_mask=True)\n",
    "        # --------------------------控制视频的播放速度-----------------------\n",
    "        time.sleep(0.02)\n",
    "\n",
    "# 播放/暂停按钮逻辑\n",
    "# toggle:切换\n",
    "def toggle_play(change):\n",
    "    global playing\n",
    "    playing = change['new']\n",
    "    # 如果正在播放,icon为pause,否则为play\n",
    "    if playing:\n",
    "        toggle_button.icon = 'pause'\n",
    "    else:\n",
    "        toggle_button.icon = 'play'\n",
    "    # -----------------------------等待改进点，如何加强线程管理---------------------\n",
    "    if playing:\n",
    "        threading.Thread(target=play_video, daemon=True).start()\n",
    "\n",
    "# 关闭按钮逻辑\n",
    "def close_video(b):\n",
    "    # 全部关闭\n",
    "    global playing\n",
    "    playing = False\n",
    "    toggle_button.value = False\n",
    "    toggle_button.disabled = True\n",
    "    close_button.disabled = True\n",
    "    slider_red1_v = False\n",
    "    slider_red2_v = False\n",
    "    slider_red1_h = False\n",
    "    slider_red2_h = False\n",
    "    slider_red1_s = False\n",
    "    slider_red2_s = False\n",
    "    cap.release()\n",
    "    # 清除画面\n",
    "    image_processed.value = b''\n",
    "    image_mask.value = b''"
   ],
   "outputs": [],
   "execution_count": 3
  },
  {
   "cell_type": "markdown",
   "id": "d8c98cc5d36cb3be",
   "metadata": {},
   "source": [
    "### 组件设置"
   ]
  },
  {
   "cell_type": "code",
   "id": "f0cfdf45e548dace",
   "metadata": {
    "ExecuteTime": {
     "end_time": "2025-05-03T14:40:25.579121Z",
     "start_time": "2025-05-03T14:40:25.443802Z"
    }
   },
   "source": [
    "# 视频源\n",
    "cap = cv2.VideoCapture('video/red-green.mp4')\n",
    "if not cap.isOpened():\n",
    "    raise IOError(\"无法打开视频文件\")\n",
    "\n",
    "# -----------------------image控件--------------------------------\n",
    "# 掩膜图像， 和圈出区域后的图像\n",
    "image_processed = widgets.Image(format='jpg', width=640, height=480)\n",
    "image_mask = widgets.Image(format='jpg', width=640, height=480)\n",
    "# ----------------------slider控件--------------------------------\n",
    "# red1和red2的范围\n",
    "slider_red1_h = widgets.IntRangeSlider(value=[0, 15], min=0, max=180, step=1, description='Red1 H:', continuous_update=False)\n",
    "slider_red1_s = widgets.IntRangeSlider(value=[80, 255], min=0, max=255, step=1, description='Red1 S:', continuous_update=False)\n",
    "slider_red1_v = widgets.IntRangeSlider(value=[80, 255], min=0, max=255, step=1, description='Red1 V:', continuous_update=False)\n",
    "slider_red2_h = widgets.IntRangeSlider(value=[165, 180], min=0, max=180, step=1, description='Red2 H:', continuous_update=False)\n",
    "slider_red2_s = widgets.IntRangeSlider(value=[80, 255], min=0, max=255, step=1, description='Red2 S:', continuous_update=False)\n",
    "slider_red2_v = widgets.IntRangeSlider(value=[80, 255], min=0, max=255, step=1, description='Red2 V:', continuous_update=False)\n",
    "# lowest的范围\n",
    "slider_lowest = widgets.IntSlider(value=30, min=0, max=100, step=1, description='LOWEST:', continuous_update=False)\n",
    "# -------------------------------button控件--------------------------\n",
    "# 控制关闭和打开\n",
    "toggle_button = widgets.ToggleButton(value=False, description=\"Play/Pause\", icon='play')\n",
    "close_button = widgets.Button(description=\"关闭\", icon='times', button_style='danger')\n",
    "toggle_button.observe(toggle_play, names='value')\n",
    "close_button.on_click(close_video)\n",
    "# -----------------------------回调函数--------------------------------\n",
    "def refresh_on_change(change=None):\n",
    "    with frame_lock:\n",
    "        current = cap.get(cv2.CAP_PROP_POS_FRAMES)\n",
    "        cap.set(cv2.CAP_PROP_POS_FRAMES, max(0, current - 1))\n",
    "        ret, frame = cap.read()\n",
    "        if ret:\n",
    "            processed, mask = process_frame(frame)\n",
    "            image_processed.value = to_jpeg_bytes(processed)\n",
    "            image_mask.value = to_jpeg_bytes(mask, is_mask=True)\n",
    "# ----------------------------绑定回调函数和控件------------------------\n",
    "for s in [slider_lowest, slider_red1_h, slider_red2_h, slider_red1_s, slider_red1_v,slider_red2_v]:\n",
    "    s.observe(refresh_on_change, names='value')"
   ],
   "outputs": [],
   "execution_count": 4
  },
  {
   "cell_type": "markdown",
   "id": "ee1f3b93525b5666",
   "metadata": {},
   "source": [
    "### 布局"
   ]
  },
  {
   "cell_type": "code",
   "id": "ff9751e8f3668075",
   "metadata": {
    "ExecuteTime": {
     "end_time": "2025-05-03T14:40:26.950484Z",
     "start_time": "2025-05-03T14:40:26.939317Z"
    }
   },
   "source": [
    "group_red1 = widgets.HBox([slider_red1_h, slider_red2_h])\n",
    "group_red2 = widgets.HBox([slider_red1_s, slider_red2_s])\n",
    "group_red3 = widgets.HBox([slider_red1_v, slider_red2_v])\n",
    "\n",
    "button_bar = widgets.HBox([toggle_button, close_button])\n",
    "controls = widgets.VBox([button_bar, slider_lowest, group_red1, group_red2, group_red3])\n",
    "image = widgets.HBox([image_processed, image_mask])"
   ],
   "outputs": [],
   "execution_count": 5
  },
  {
   "cell_type": "markdown",
   "id": "ce1583e64b10e098",
   "metadata": {},
   "source": [
    "### 启动"
   ]
  },
  {
   "cell_type": "code",
   "id": "36c746d380e27e32",
   "metadata": {
    "ExecuteTime": {
     "end_time": "2025-05-03T14:40:28.276005Z",
     "start_time": "2025-05-03T14:40:28.210955Z"
    }
   },
   "source": [
    "display(controls, image)\n",
    "refresh_on_change()"
   ],
   "outputs": [
    {
     "data": {
      "text/plain": [
       "VBox(children=(HBox(children=(ToggleButton(value=False, description='Play/Pause', icon='play'), Button(button_…"
      ],
      "application/vnd.jupyter.widget-view+json": {
       "version_major": 2,
       "version_minor": 0,
       "model_id": "b3ce73db834f44f1b9ae1ed02ab92107"
      }
     },
     "metadata": {},
     "output_type": "display_data"
    },
    {
     "data": {
      "text/plain": [
       "HBox(children=(Image(value=b'', format='jpg', height='480', width='640'), Image(value=b'', format='jpg', heigh…"
      ],
      "application/vnd.jupyter.widget-view+json": {
       "version_major": 2,
       "version_minor": 0,
       "model_id": "15fbac22aa1149bfae980cd062505424"
      }
     },
     "metadata": {},
     "output_type": "display_data"
    }
   ],
   "execution_count": 6
  },
  {
   "cell_type": "code",
   "execution_count": null,
   "id": "2fee2a86b28a07bd",
   "metadata": {
    "ExecuteTime": {
     "end_time": "2025-05-01T13:51:31.454472Z",
     "start_time": "2025-05-01T13:51:31.451662Z"
    }
   },
   "outputs": [],
   "source": []
  },
  {
   "cell_type": "code",
   "execution_count": null,
   "id": "3f261e7ad382c1d7",
   "metadata": {
    "ExecuteTime": {
     "end_time": "2025-05-01T13:49:41.760350Z",
     "start_time": "2025-05-01T13:49:41.757353Z"
    }
   },
   "outputs": [],
   "source": []
  },
  {
   "cell_type": "code",
   "execution_count": null,
   "id": "14db8291c9d890fd",
   "metadata": {},
   "outputs": [],
   "source": []
  },
  {
   "cell_type": "code",
   "execution_count": null,
   "id": "e38a3617e413563f",
   "metadata": {},
   "outputs": [],
   "source": []
  }
 ],
 "metadata": {
  "kernelspec": {
   "display_name": "Python 3 (ipykernel)",
   "language": "python",
   "name": "python3"
  },
  "language_info": {
   "codemirror_mode": {
    "name": "ipython",
    "version": 3
   },
   "file_extension": ".py",
   "mimetype": "text/x-python",
   "name": "python",
   "nbconvert_exporter": "python",
   "pygments_lexer": "ipython3",
   "version": "3.12.9"
  }
 },
 "nbformat": 4,
 "nbformat_minor": 5
}
