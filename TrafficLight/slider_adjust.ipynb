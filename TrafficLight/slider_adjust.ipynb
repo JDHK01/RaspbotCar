{
 "cells": [
  {
   "metadata": {},
   "cell_type": "markdown",
   "source": "### 库导入",
   "id": "91402a20a13c6467"
  },
  {
   "metadata": {
    "ExecuteTime": {
     "end_time": "2025-05-05T14:49:43.674053Z",
     "start_time": "2025-05-05T14:49:43.670157Z"
    }
   },
   "cell_type": "code",
   "source": [
    "import cv2\n",
    "import numpy as np\n",
    "import ipywidgets as widgets\n",
    "from IPython.display import display, clear_output\n",
    "import threading\n",
    "import time"
   ],
   "id": "5fdf7c9e1ef057da",
   "outputs": [],
   "execution_count": 35
  },
  {
   "metadata": {
    "ExecuteTime": {
     "end_time": "2025-05-05T14:49:43.861561Z",
     "start_time": "2025-05-05T14:49:43.858176Z"
    }
   },
   "cell_type": "code",
   "source": "from lib.imgproc import to_jpeg_bytes, process_frame",
   "id": "f3f2035600112193",
   "outputs": [],
   "execution_count": 36
  },
  {
   "metadata": {},
   "cell_type": "markdown",
   "source": "### 自定义函数",
   "id": "7df97fcf3347b688"
  },
  {
   "metadata": {
    "ExecuteTime": {
     "end_time": "2025-05-05T14:49:44.177854Z",
     "start_time": "2025-05-05T14:49:44.174455Z"
    }
   },
   "cell_type": "code",
   "source": [
    "# 关闭按钮逻辑\n",
    "def close_video(b):\n",
    "    global playing\n",
    "    playing = False\n",
    "    toggle_button.value = False\n",
    "    toggle_button.disabled = True\n",
    "    close_button.disabled = True\n",
    "    slider_red1_h.disabled = True\n",
    "    slider_red2_h.disabled = True\n",
    "    slider_red1_s.disabled = True\n",
    "    slider_red2_s.disabled = True\n",
    "    slider_red1_v.disabled = True\n",
    "    slider_red2_v.disabled = True\n",
    "    cap.release()\n",
    "    # 清除画面\n",
    "    img_processed.value = b''\n",
    "    img_mask.value = b''"
   ],
   "id": "8e76b34f3f73339c",
   "outputs": [],
   "execution_count": 37
  },
  {
   "metadata": {
    "ExecuteTime": {
     "end_time": "2025-05-05T14:49:44.347168Z",
     "start_time": "2025-05-05T14:49:44.343543Z"
    }
   },
   "cell_type": "code",
   "source": [
    "# 播放/暂停按钮\n",
    "# 引入全局变量 -> 获取change最新的值并赋值 -> 更新图标 + 继续播放/暂停\n",
    "def toggle_play(change):\n",
    "    global playing\n",
    "    playing = change['new']# 获取change最新的值\n",
    "    toggle_button.icon = 'pause' if playing else 'play'\n",
    "    if playing:\n",
    "        threading.Thread(target=play_video, daemon=True).start()"
   ],
   "id": "cee065df79251688",
   "outputs": [],
   "execution_count": 38
  },
  {
   "metadata": {
    "ExecuteTime": {
     "end_time": "2025-05-05T14:49:44.517792Z",
     "start_time": "2025-05-05T14:49:44.514004Z"
    }
   },
   "cell_type": "code",
   "source": [
    "# playing为1，连续循环播放图片\n",
    "def play_video():\n",
    "    global playing\n",
    "    while playing:\n",
    "        with frame_lock:\n",
    "            ret, frame = cap.read()\n",
    "            if not ret:\n",
    "                cap.set(cv2.CAP_PROP_POS_FRAMES, 0)# 播放完毕，从头开始重新播放\n",
    "                continue\n",
    "            temp = [\n",
    "                    [slider_red1_h.value[0], slider_red1_s.value[0], slider_red1_s.value[0]],\n",
    "                    [slider_red1_h.value[1], slider_red1_s.value[1], slider_red1_s.value[1]],\n",
    "                    [slider_red2_h.value[0], slider_red2_s.value[0], slider_red2_v.value[0]],\n",
    "                    [slider_red2_h.value[1], slider_red2_s.value[1], slider_red2_s.value[1]],\n",
    "            ]\n",
    "            draw ,mask = process_frame(frame,temp,lowest=slider_lowest.value)\n",
    "            img_processed.value = to_jpeg_bytes(draw, is_mask=False)\n",
    "            img_mask.value = to_jpeg_bytes(mask, is_mask=True)\n",
    "        #----------------控制播放速度------------------------\n",
    "        time.sleep(1/frame_rate.value)"
   ],
   "id": "83aaf9728ae9da1d",
   "outputs": [],
   "execution_count": 39
  },
  {
   "metadata": {
    "ExecuteTime": {
     "end_time": "2025-05-05T14:49:44.677236Z",
     "start_time": "2025-05-05T14:49:44.671710Z"
    }
   },
   "cell_type": "code",
   "source": [
    "# 滑块变化时更新当前帧\n",
    "def refresh_on_change(change=None):\n",
    "    with frame_lock:\n",
    "        # 回退一帧，因为你用play_video函数读取了一帧，cv2.CAP_PROP_POS_FRAMES++,所以这里需要回退一下\n",
    "        current = cap.get(cv2.CAP_PROP_POS_FRAMES)\n",
    "        cap.set(cv2.CAP_PROP_POS_FRAMES, max(0, current - 1))\n",
    "        ret, frame = cap.read()\n",
    "        if ret:\n",
    "            temp = [\n",
    "                    [slider_red1_h.value[0], slider_red1_s.value[0], slider_red1_s.value[0]],\n",
    "                    [slider_red1_h.value[1], slider_red1_s.value[1], slider_red1_s.value[1]],\n",
    "                    [slider_red2_h.value[0], slider_red2_s.value[0], slider_red2_v.value[0]],\n",
    "                    [slider_red2_h.value[1], slider_red2_s.value[1], slider_red2_s.value[1]],\n",
    "            ]\n",
    "            draw ,mask = process_frame(frame,temp,lowest=slider_lowest.value)\n",
    "            img_processed.value = to_jpeg_bytes(draw, is_mask=False)\n",
    "            img_mask.value = to_jpeg_bytes(mask, is_mask=True)"
   ],
   "id": "9bd6f906079873d5",
   "outputs": [],
   "execution_count": 40
  },
  {
   "metadata": {},
   "cell_type": "markdown",
   "source": "### 全局变量定义",
   "id": "f75f9fca4beb9ad3"
  },
  {
   "metadata": {
    "ExecuteTime": {
     "end_time": "2025-05-05T14:49:45.000971Z",
     "start_time": "2025-05-05T14:49:44.996450Z"
    }
   },
   "cell_type": "code",
   "source": [
    "playing = False\n",
    "frame_lock = threading.Lock()"
   ],
   "id": "702134b0339db5af",
   "outputs": [],
   "execution_count": 41
  },
  {
   "metadata": {},
   "cell_type": "markdown",
   "source": "### 读取视频",
   "id": "e72fc31fdf986077"
  },
  {
   "metadata": {
    "ExecuteTime": {
     "end_time": "2025-05-05T14:49:45.390286Z",
     "start_time": "2025-05-05T14:49:45.378623Z"
    }
   },
   "cell_type": "code",
   "source": [
    "cap = cv2.VideoCapture(\"video/red-green.mp4\")\n",
    "if not cap.isOpened():\n",
    "    raise IOError(\"无法打开视频文件\")"
   ],
   "id": "fe7eebb5570a7f7f",
   "outputs": [],
   "execution_count": 42
  },
  {
   "metadata": {},
   "cell_type": "markdown",
   "source": "### 控件定义",
   "id": "244d35ed2a0c9c96"
  },
  {
   "metadata": {
    "ExecuteTime": {
     "end_time": "2025-05-05T14:49:45.955457Z",
     "start_time": "2025-05-05T14:49:45.947749Z"
    }
   },
   "cell_type": "code",
   "source": [
    "# -------------------------------图像输出--------------------------\n",
    "# 掩膜图像 + 处理后的图像\n",
    "# 格式为 jpg , 大小为640*480\n",
    "img_processed = widgets.Image(format='jpg', width=640, height=480)\n",
    "img_mask = widgets.Image(format='jpg', width=640, height=480)"
   ],
   "id": "265bd543d22e2bf8",
   "outputs": [],
   "execution_count": 43
  },
  {
   "metadata": {
    "ExecuteTime": {
     "end_time": "2025-05-05T14:49:46.269513Z",
     "start_time": "2025-05-05T14:49:46.259573Z"
    }
   },
   "cell_type": "code",
   "source": [
    "# -------------------------------控制按钮-------------------------\n",
    "# 切换按钮 + 停止按钮\n",
    "toggle_button = widgets.ToggleButton(description=\"Play/Pause\", value=False, icon='play')\n",
    "close_button = widgets.Button(description=\"关闭\", icon='times', button_style='danger')\n",
    "toggle_button.observe(toggle_play, names='value')\n",
    "close_button.on_click(close_video)"
   ],
   "id": "6f13f216130bd1b3",
   "outputs": [],
   "execution_count": 44
  },
  {
   "metadata": {
    "ExecuteTime": {
     "end_time": "2025-05-05T14:50:51.659098Z",
     "start_time": "2025-05-05T14:50:51.631565Z"
    }
   },
   "cell_type": "code",
   "source": [
    "# -------------------------------滑块控件------------------------\n",
    "slider_lowest = widgets.IntSlider(value=30, min=0, max=100, description='lowest:')\n",
    "frame_rate = widgets.IntSlider(value=30, min=0, max=200, description='frame rate:')\n",
    "slider_red2_v = widgets.IntRangeSlider(value=[80, 255], min=0, max=255, description='red2 V:')\n",
    "slider_red1_h = widgets.IntRangeSlider(value=[0, 15], min=0, max=180, description='red1 H:')\n",
    "slider_red1_s = widgets.IntRangeSlider(value=[80, 255], min=0, max=255, description='red1 S:')\n",
    "slider_red1_v = widgets.IntRangeSlider(value=[80, 255], min=0, max=255, description='red1 V:')\n",
    "slider_red2_h = widgets.IntRangeSlider(value=[165, 180], min=0, max=180, description='red2 H:')\n",
    "slider_red2_s = widgets.IntRangeSlider(value=[80, 255], min=0, max=255, description='red2 S:')\n",
    "slider_red2_v = widgets.IntRangeSlider(value=[80, 255], min=0, max=255, description='red2 V:')"
   ],
   "id": "efbdede119a754dd",
   "outputs": [],
   "execution_count": 52
  },
  {
   "metadata": {},
   "cell_type": "markdown",
   "source": "### 布局",
   "id": "4589bbad657670c8"
  },
  {
   "metadata": {
    "ExecuteTime": {
     "end_time": "2025-05-05T14:50:52.122806Z",
     "start_time": "2025-05-05T14:50:52.115586Z"
    }
   },
   "cell_type": "code",
   "source": [
    "group0 = widgets.HBox([toggle_button, close_button])\n",
    "group1 = widgets.HBox([slider_red1_h, slider_red2_h])\n",
    "group2 = widgets.HBox([slider_red1_s, slider_red2_s])\n",
    "group3 = widgets.HBox([slider_red1_v, slider_red2_v])\n",
    "controls = widgets.VBox([group0, frame_rate,group1, group2, group3])\n",
    "image = widgets.HBox([img_processed, img_mask])"
   ],
   "id": "7e481055b2b788ef",
   "outputs": [],
   "execution_count": 53
  },
  {
   "metadata": {},
   "cell_type": "markdown",
   "source": "### 绑定回调函数",
   "id": "cfc093795277bf6e"
  },
  {
   "metadata": {
    "ExecuteTime": {
     "end_time": "2025-05-05T14:50:52.790740Z",
     "start_time": "2025-05-05T14:50:52.786519Z"
    }
   },
   "cell_type": "code",
   "source": [
    "for s in [slider_lowest, slider_red1_h, slider_red2_h, slider_red1_s ,slider_red2_s , slider_red1_v,slider_red2_v]:\n",
    "    # 当s.value变化时，调用refresh_on_change函数\n",
    "    s.observe(refresh_on_change, names='value')"
   ],
   "id": "d92a8c4b82ab932b",
   "outputs": [],
   "execution_count": 54
  },
  {
   "metadata": {
    "ExecuteTime": {
     "end_time": "2025-05-05T14:50:53.543513Z",
     "start_time": "2025-05-05T14:50:53.522996Z"
    }
   },
   "cell_type": "code",
   "source": [
    "display(controls, image)\n",
    "refresh_on_change()"
   ],
   "id": "a32bc7646a3eb008",
   "outputs": [
    {
     "data": {
      "text/plain": [
       "VBox(children=(HBox(children=(ToggleButton(value=True, description='Play/Pause', icon='pause'), Button(button_…"
      ],
      "application/vnd.jupyter.widget-view+json": {
       "version_major": 2,
       "version_minor": 0,
       "model_id": "12ac9f911c634eb991c42dc1e1f5a986"
      }
     },
     "metadata": {},
     "output_type": "display_data"
    },
    {
     "data": {
      "text/plain": [
       "HBox(children=(Image(value=b'\\xff\\xd8\\xff\\xe0\\x00\\x10JFIF\\x00\\x01\\x01\\x00\\x00\\x01\\x00\\x01\\x00\\x00\\xff\\xdb\\x00C…"
      ],
      "application/vnd.jupyter.widget-view+json": {
       "version_major": 2,
       "version_minor": 0,
       "model_id": "01b924ce464f43b6b84a3680092768d0"
      }
     },
     "metadata": {},
     "output_type": "display_data"
    }
   ],
   "execution_count": 55
  },
  {
   "metadata": {
    "ExecuteTime": {
     "end_time": "2025-05-05T14:47:19.687906Z",
     "start_time": "2025-05-05T14:47:19.685005Z"
    }
   },
   "cell_type": "code",
   "source": "cap.release()",
   "id": "fb86ba1da8ffd09a",
   "outputs": [],
   "execution_count": 20
  },
  {
   "metadata": {
    "ExecuteTime": {
     "end_time": "2025-05-05T12:15:40.830510Z",
     "start_time": "2025-05-05T12:15:40.828895Z"
    }
   },
   "cell_type": "code",
   "source": "",
   "id": "e355f429bef516cd",
   "outputs": [],
   "execution_count": null
  },
  {
   "metadata": {
    "ExecuteTime": {
     "end_time": "2025-05-05T12:15:40.840812Z",
     "start_time": "2025-05-05T12:15:40.838691Z"
    }
   },
   "cell_type": "code",
   "source": "",
   "id": "5c01f422e473e861",
   "outputs": [],
   "execution_count": null
  },
  {
   "metadata": {
    "ExecuteTime": {
     "end_time": "2025-05-05T12:15:40.858783Z",
     "start_time": "2025-05-05T12:15:40.856416Z"
    }
   },
   "cell_type": "code",
   "source": "",
   "id": "309b21ad404427d5",
   "outputs": [],
   "execution_count": null
  },
  {
   "metadata": {
    "ExecuteTime": {
     "end_time": "2025-05-05T12:15:40.872422Z",
     "start_time": "2025-05-05T12:15:40.869914Z"
    }
   },
   "cell_type": "code",
   "source": "",
   "id": "58c3386480c76218",
   "outputs": [],
   "execution_count": null
  },
  {
   "metadata": {
    "ExecuteTime": {
     "end_time": "2025-05-05T12:15:40.898523Z",
     "start_time": "2025-05-05T12:15:40.895617Z"
    }
   },
   "cell_type": "code",
   "source": "",
   "id": "1cd90ec4c23e4838",
   "outputs": [],
   "execution_count": null
  },
  {
   "metadata": {
    "ExecuteTime": {
     "end_time": "2025-05-05T12:15:40.923173Z",
     "start_time": "2025-05-05T12:15:40.921624Z"
    }
   },
   "cell_type": "code",
   "source": "",
   "id": "ca413aac92d3ecf7",
   "outputs": [],
   "execution_count": null
  },
  {
   "metadata": {
    "ExecuteTime": {
     "end_time": "2025-05-05T12:15:40.947587Z",
     "start_time": "2025-05-05T12:15:40.944878Z"
    }
   },
   "cell_type": "code",
   "source": "",
   "id": "28f694eed52c297a",
   "outputs": [],
   "execution_count": null
  },
  {
   "metadata": {
    "ExecuteTime": {
     "end_time": "2025-05-05T12:15:40.964810Z",
     "start_time": "2025-05-05T12:15:40.962974Z"
    }
   },
   "cell_type": "code",
   "source": "",
   "id": "c6a333168e44c322",
   "outputs": [],
   "execution_count": null
  }
 ],
 "metadata": {
  "kernelspec": {
   "display_name": "Python 3",
   "language": "python",
   "name": "python3"
  },
  "language_info": {
   "codemirror_mode": {
    "name": "ipython",
    "version": 2
   },
   "file_extension": ".py",
   "mimetype": "text/x-python",
   "name": "python",
   "nbconvert_exporter": "python",
   "pygments_lexer": "ipython2",
   "version": "2.7.6"
  }
 },
 "nbformat": 4,
 "nbformat_minor": 5
}
