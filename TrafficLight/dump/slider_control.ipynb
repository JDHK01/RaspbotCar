{
 "cells": [
  {
   "cell_type": "code",
   "id": "30c557e8-7f53-4f0d-82e8-1c1b8a405bbb",
   "metadata": {
    "ExecuteTime": {
     "end_time": "2025-05-05T07:23:59.182550Z",
     "start_time": "2025-05-05T07:23:59.156618Z"
    }
   },
   "source": [
    "# -----------------------库导入--------------------------\n",
    "import readygo\n",
    "import cv2\n",
    "import numpy as np\n",
    "import matplotlib.pyplot as plt\n",
    "import ipywidgets as widgets\n",
    "from IPython.display import display, clear_output\n",
    "\n",
    "# ----------------------图像与显示函数---------------------\n",
    "image = cv2.imread(\"picture/0.png\")\n",
    "if image is None:\n",
    "    raise ValueError(\"无法读取图片，请确认路径是否正确\")\n",
    "\n",
    "def imshow(img):\n",
    "    plt.figure(figsize=(5, 5))\n",
    "    plt.imshow(cv2.cvtColor(img, cv2.COLOR_BGR2RGB))\n",
    "    plt.axis('off')\n",
    "    plt.show()\n",
    "\n",
    "# ----------------------控件定义------------------------\n",
    "# 输出窗口\n",
    "output = widgets.Output()\n",
    "\n",
    "# LOWEST 使用单值滑块\n",
    "slider_lowest = widgets.IntSlider(value=100, min=0, max=100, step=1, description='LOWEST:', continuous_update=False)\n",
    "# 红色 HSV 范围使用区间滑块\n",
    "slider_red1_h = widgets.IntRangeSlider(value=[0, 10], min=0, max=180, step=1, description='Red1 H:', continuous_update=False)\n",
    "slider_red1_s = widgets.IntRangeSlider(value=[60, 255], min=0, max=255, step=1, description='Red1 S:', continuous_update=False)\n",
    "slider_red1_v = widgets.IntRangeSlider(value=[60, 255], min=0, max=255, step=1, description='Red1 V:', continuous_update=False)\n",
    "\n",
    "slider_red2_h = widgets.IntRangeSlider(value=[165, 180], min=0, max=180, step=1, description='Red2 H:', continuous_update=False)\n",
    "slider_red2_s = widgets.IntRangeSlider(value=[60, 255], min=0, max=255, step=1, description='Red2 S:', continuous_update=False)\n",
    "slider_red2_v = widgets.IntRangeSlider(value=[60, 255], min=0, max=255, step=1, description='Red2 V:', continuous_update=False)\n",
    "# 分组排列\n",
    "group_red1 = widgets.HBox([slider_red1_h, slider_red2_h])\n",
    "group_red2 = widgets.HBox([slider_red1_s, slider_red2_s])\n",
    "group_red3 = widgets.HBox([slider_red1_v, slider_red2_v])\n",
    "\n",
    "# ----------------------回调函数------------------------\n",
    "def on_value_change(change=None):\n",
    "    # 获取 LOWEST 阈值\n",
    "    LOWEST = slider_lowest.value\n",
    "\n",
    "    # 获取红色范围\n",
    "    lower_red1 = np.array([slider_red1_h.value[0], slider_red1_s.value[0], slider_red1_v.value[0]])\n",
    "    upper_red1 = np.array([slider_red1_h.value[1], slider_red1_s.value[1], slider_red1_v.value[1]])\n",
    "\n",
    "    lower_red2 = np.array([slider_red2_h.value[0], slider_red2_s.value[0], slider_red2_v.value[0]])\n",
    "    upper_red2 = np.array([slider_red2_h.value[1], slider_red2_s.value[1], slider_red2_v.value[1]])\n",
    "\n",
    "    # 调用处理函数\n",
    "    mask0, mask1, draw = readygo.detect_red_info(image, LOWEST, lower_red1, upper_red1, lower_red2, upper_red2)\n",
    "\n",
    "    # 显示图像\n",
    "    with output:\n",
    "        clear_output(wait=True)\n",
    "        plt.figure(figsize=(10, 7))\n",
    "        plt.subplot(1, 2, 1)\n",
    "        plt.imshow(cv2.cvtColor(draw, cv2.COLOR_BGR2RGB))\n",
    "        plt.title(\"Result\")\n",
    "        plt.subplot(1, 2, 2)\n",
    "        plt.imshow(mask0, cmap='gray')\n",
    "        plt.title(\"Mask\")\n",
    "        plt.show()\n",
    "\n",
    "# 绑定回调\n",
    "sliders = [slider_lowest, slider_red1_h, slider_red1_s, slider_red1_v,\n",
    "           slider_red2_h, slider_red2_s, slider_red2_v]\n",
    "for s in sliders:\n",
    "    s.observe(on_value_change, names='value')\n"
   ],
   "outputs": [],
   "execution_count": 2
  },
  {
   "cell_type": "code",
   "id": "abaee6fb-9ae0-4308-a629-03e8bf622f11",
   "metadata": {
    "ExecuteTime": {
     "end_time": "2025-05-05T07:24:00.151346Z",
     "start_time": "2025-05-05T07:23:59.857377Z"
    }
   },
   "source": [
    "# ----------------------界面展示------------------------\n",
    "controls = widgets.VBox([slider_lowest, group_red1, group_red2, group_red3])\n",
    "display(controls, output)\n",
    "\n",
    "# ----------------------首次触发------------------------\n",
    "on_value_change()"
   ],
   "outputs": [
    {
     "data": {
      "text/plain": [
       "VBox(children=(IntSlider(value=100, continuous_update=False, description='LOWEST:'), HBox(children=(IntRangeSl…"
      ],
      "application/vnd.jupyter.widget-view+json": {
       "version_major": 2,
       "version_minor": 0,
       "model_id": "814e68e9e92c4906bf36d173c961d1c8"
      }
     },
     "metadata": {},
     "output_type": "display_data"
    },
    {
     "data": {
      "text/plain": [
       "Output()"
      ],
      "application/vnd.jupyter.widget-view+json": {
       "version_major": 2,
       "version_minor": 0,
       "model_id": "dc162224ca36434c8b4a131a76526fdd"
      }
     },
     "metadata": {},
     "output_type": "display_data"
    }
   ],
   "execution_count": 3
  },
  {
   "cell_type": "code",
   "id": "99345ae2-71fc-4998-abcf-1491db92a84b",
   "metadata": {
    "ExecuteTime": {
     "end_time": "2025-05-05T07:43:35.274510Z",
     "start_time": "2025-05-05T07:43:35.271554Z"
    }
   },
   "source": "",
   "outputs": [],
   "execution_count": null
  },
  {
   "metadata": {
    "ExecuteTime": {
     "end_time": "2025-05-05T12:17:58.589920Z",
     "start_time": "2025-05-05T12:17:58.010939Z"
    }
   },
   "cell_type": "code",
   "source": [
    "import cv2\n",
    "import numpy as np\n",
    "import ipywidgets as widgets\n",
    "from IPython.display import display, clear_output\n",
    "import threading\n",
    "import time\n",
    "\n",
    "# 视频源\n",
    "cap = cv2.VideoCapture(\"video/red-green.mp4\")\n",
    "if not cap.isOpened():\n",
    "    raise IOError(\"无法打开视频文件\")\n",
    "\n",
    "# 图像输出部件（原图、处理图、mask）\n",
    "image_original = widgets.Image(format='jpeg', width=320, height=240)\n",
    "image_processed = widgets.Image(format='jpeg', width=320, height=240)\n",
    "image_mask = widgets.Image(format='jpeg', width=320, height=240)\n",
    "\n",
    "# 控制变量\n",
    "playing = False\n",
    "frame_lock = threading.Lock()\n",
    "\n",
    "# 参数滑块\n",
    "slider_lowest = widgets.IntSlider(value=100, min=0, max=1000, description='LOWEST:')\n",
    "slider_red1_h = widgets.IntRangeSlider(value=[0, 15], min=0, max=180, description='Red1 H:')\n",
    "slider_red2_h = widgets.IntRangeSlider(value=[165, 180], min=0, max=180, description='Red2 H:')\n",
    "\n",
    "# 控制按钮\n",
    "toggle_button = widgets.ToggleButton(value=False, description=\"Play/Pause\", icon='play')\n",
    "close_button = widgets.Button(description=\"关闭\", icon='times', button_style='danger')\n",
    "\n",
    "# 图像处理函数\n",
    "def process_frame(frame):\n",
    "    LOWEST = slider_lowest.value\n",
    "    lower_red1 = np.array([slider_red1_h.value[0], 70, 70])\n",
    "    upper_red1 = np.array([slider_red1_h.value[1], 255, 255])\n",
    "    lower_red2 = np.array([slider_red2_h.value[0], 70, 70])\n",
    "    upper_red2 = np.array([slider_red2_h.value[1], 255, 255])\n",
    "\n",
    "    hsv = cv2.cvtColor(frame, cv2.COLOR_BGR2HSV)\n",
    "    mask1 = cv2.inRange(hsv, lower_red1, upper_red1)\n",
    "    mask2 = cv2.inRange(hsv, lower_red2, upper_red2)\n",
    "    mask = cv2.bitwise_or(mask1, mask2)\n",
    "\n",
    "    contours, _ = cv2.findContours(mask, cv2.RETR_EXTERNAL, cv2.CHAIN_APPROX_SIMPLE)\n",
    "    draw = frame.copy()\n",
    "    for c in contours:\n",
    "        area = cv2.contourArea(c)\n",
    "        if LOWEST < area < 1000:\n",
    "            x, y, w, h = cv2.boundingRect(c)\n",
    "            cv2.rectangle(draw, (x, y), (x+w, y+h), (0, 255, 0), 2)\n",
    "    return draw, mask\n",
    "\n",
    "def to_jpeg_bytes(frame, is_mask=False):\n",
    "    if is_mask:\n",
    "        frame = cv2.cvtColor(frame, cv2.COLOR_GRAY2BGR)\n",
    "    _, jpeg = cv2.imencode('.jpg', frame)\n",
    "    return jpeg.tobytes()\n",
    "\n",
    "# 播放线程\n",
    "def play_video():\n",
    "    global playing\n",
    "    while playing:\n",
    "        with frame_lock:\n",
    "            ret, frame = cap.read()\n",
    "            if not ret:\n",
    "                cap.set(cv2.CAP_PROP_POS_FRAMES, 0)\n",
    "                continue\n",
    "            processed, mask = process_frame(frame)\n",
    "            image_original.value = to_jpeg_bytes(frame)\n",
    "            image_processed.value = to_jpeg_bytes(processed)\n",
    "            image_mask.value = to_jpeg_bytes(mask, is_mask=True)\n",
    "        time.sleep(0.03)\n",
    "\n",
    "# 播放/暂停按钮逻辑\n",
    "def toggle_play(change):\n",
    "    global playing\n",
    "    playing = change['new']\n",
    "    toggle_button.icon = 'pause' if playing else 'play'\n",
    "    if playing:\n",
    "        threading.Thread(target=play_video, daemon=True).start()\n",
    "\n",
    "# 关闭按钮逻辑\n",
    "def close_video(b):\n",
    "    global playing\n",
    "    playing = False\n",
    "    toggle_button.value = False\n",
    "    toggle_button.disabled = True\n",
    "    close_button.disabled = True\n",
    "    cap.release()\n",
    "    # 清除画面\n",
    "    image_original.value = b''\n",
    "    image_processed.value = b''\n",
    "    image_mask.value = b''\n",
    "\n",
    "toggle_button.observe(toggle_play, names='value')\n",
    "close_button.on_click(close_video)\n",
    "\n",
    "# 滑块变化时更新当前帧\n",
    "def refresh_on_change(change=None):\n",
    "    with frame_lock:\n",
    "        current = cap.get(cv2.CAP_PROP_POS_FRAMES)\n",
    "        cap.set(cv2.CAP_PROP_POS_FRAMES, max(0, current - 1))\n",
    "        ret, frame = cap.read()\n",
    "        if ret:\n",
    "            processed, mask = process_frame(frame)\n",
    "            image_original.value = to_jpeg_bytes(frame)\n",
    "            image_processed.value = to_jpeg_bytes(processed)\n",
    "            image_mask.value = to_jpeg_bytes(mask, is_mask=True)\n",
    "\n",
    "for s in [slider_lowest, slider_red1_h, slider_red2_h]:\n",
    "    s.observe(refresh_on_change, names='value')\n",
    "\n",
    "# 布局\n",
    "button_bar = widgets.HBox([toggle_button, close_button])\n",
    "controls = widgets.VBox([button_bar, slider_lowest, slider_red1_h, slider_red2_h])\n",
    "image_row = widgets.HBox([image_original, image_processed, image_mask])\n",
    "display(controls, image_row)\n",
    "\n",
    "# 初始化第一帧\n",
    "refresh_on_change()\n"
   ],
   "id": "9923229c15910be6",
   "outputs": [
    {
     "ename": "OSError",
     "evalue": "无法打开视频文件",
     "output_type": "error",
     "traceback": [
      "\u001B[31m---------------------------------------------------------------------------\u001B[39m",
      "\u001B[31mOSError\u001B[39m                                   Traceback (most recent call last)",
      "\u001B[36mCell\u001B[39m\u001B[36m \u001B[39m\u001B[32mIn[1]\u001B[39m\u001B[32m, line 11\u001B[39m\n\u001B[32m      9\u001B[39m cap = cv2.VideoCapture(\u001B[33m\"\u001B[39m\u001B[33mvideo/red-green.mp4\u001B[39m\u001B[33m\"\u001B[39m)\n\u001B[32m     10\u001B[39m \u001B[38;5;28;01mif\u001B[39;00m \u001B[38;5;129;01mnot\u001B[39;00m cap.isOpened():\n\u001B[32m---> \u001B[39m\u001B[32m11\u001B[39m     \u001B[38;5;28;01mraise\u001B[39;00m \u001B[38;5;167;01mIOError\u001B[39;00m(\u001B[33m\"\u001B[39m\u001B[33m无法打开视频文件\u001B[39m\u001B[33m\"\u001B[39m)\n\u001B[32m     13\u001B[39m \u001B[38;5;66;03m# 图像输出部件（原图、处理图、mask）\u001B[39;00m\n\u001B[32m     14\u001B[39m image_original = widgets.Image(\u001B[38;5;28mformat\u001B[39m=\u001B[33m'\u001B[39m\u001B[33mjpeg\u001B[39m\u001B[33m'\u001B[39m, width=\u001B[32m320\u001B[39m, height=\u001B[32m240\u001B[39m)\n",
      "\u001B[31mOSError\u001B[39m: 无法打开视频文件"
     ]
    }
   ],
   "execution_count": 1
  },
  {
   "metadata": {},
   "cell_type": "code",
   "outputs": [],
   "execution_count": null,
   "source": "",
   "id": "270d939c2ab1a4d4"
  },
  {
   "metadata": {},
   "cell_type": "code",
   "outputs": [],
   "execution_count": null,
   "source": "",
   "id": "2db0c61d6fc766e"
  },
  {
   "metadata": {},
   "cell_type": "code",
   "outputs": [],
   "execution_count": null,
   "source": "",
   "id": "35d79d9c76273308"
  }
 ],
 "metadata": {
  "kernelspec": {
   "display_name": "Python 3 (ipykernel)",
   "language": "python",
   "name": "python3"
  },
  "language_info": {
   "codemirror_mode": {
    "name": "ipython",
    "version": 3
   },
   "file_extension": ".py",
   "mimetype": "text/x-python",
   "name": "python",
   "nbconvert_exporter": "python",
   "pygments_lexer": "ipython3",
   "version": "3.12.9"
  }
 },
 "nbformat": 4,
 "nbformat_minor": 5
}
