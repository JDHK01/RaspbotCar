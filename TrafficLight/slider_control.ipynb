{
 "cells": [
  {
   "metadata": {},
   "cell_type": "markdown",
   "source": "### 库导入",
   "id": "3d3ed435f398ecf"
  },
  {
   "metadata": {
    "ExecuteTime": {
     "end_time": "2025-05-05T14:47:51.332882Z",
     "start_time": "2025-05-05T14:47:51.328233Z"
    }
   },
   "cell_type": "code",
   "source": [
    "import cv2\n",
    "import numpy as np\n",
    "import ipywidgets as widgets\n",
    "from IPython.display import display, clear_output\n",
    "import threading\n",
    "import time"
   ],
   "id": "72bec0e64dd55e80",
   "outputs": [],
   "execution_count": 25
  },
  {
   "metadata": {
    "ExecuteTime": {
     "end_time": "2025-05-05T14:47:51.519265Z",
     "start_time": "2025-05-05T14:47:51.516406Z"
    }
   },
   "cell_type": "code",
   "source": "from lib.imgproc import to_jpeg_bytes, process_frame",
   "id": "951074a970dc5d02",
   "outputs": [],
   "execution_count": 26
  },
  {
   "metadata": {},
   "cell_type": "markdown",
   "source": "### 全局变量",
   "id": "fb59d1846fec4b1a"
  },
  {
   "metadata": {
    "ExecuteTime": {
     "end_time": "2025-05-05T14:47:51.850110Z",
     "start_time": "2025-05-05T14:47:51.846772Z"
    }
   },
   "cell_type": "code",
   "source": [
    "playing = False\n",
    "frame_lock = threading.Lock()"
   ],
   "id": "17fb6891233c8437",
   "outputs": [],
   "execution_count": 27
  },
  {
   "metadata": {},
   "cell_type": "markdown",
   "source": "### 自定义函数",
   "id": "87a0c3a20ccc63fe"
  },
  {
   "metadata": {
    "ExecuteTime": {
     "end_time": "2025-05-05T14:47:52.184652Z",
     "start_time": "2025-05-05T14:47:52.178567Z"
    }
   },
   "cell_type": "code",
   "source": [
    "# 播放线程：受全局变量 playing 控制\n",
    "# 加上进程锁，一次只能一个访问这段代码\n",
    "def play_video():\n",
    "    global playing\n",
    "    while playing:\n",
    "        with frame_lock:\n",
    "            ret, frame = cap.read()\n",
    "            # 如果播放完毕，从头开始播放\n",
    "            #-----------------------有限帧率的循环播放处理----------------------\n",
    "            if not ret:\n",
    "                cap.set(cv2.CAP_PROP_POS_FRAMES, 0)\n",
    "                continue\n",
    "            # 播放的时候，对每一帧进行处理\n",
    "            temp = [\n",
    "                [slider_red1_h.value[0], slider_red1_s.value[0],slider_red1_v.value[0]],\n",
    "                [slider_red1_h.value[1], slider_red1_s.value[1],slider_red1_v.value[1]],\n",
    "                [slider_red2_h.value[0], slider_red2_s.value[0],slider_red2_v.value[0]],\n",
    "                [slider_red2_h.value[1], slider_red2_s.value[1],slider_red2_v.value[1]],\n",
    "            ]\n",
    "            processed, mask = process_frame(frame, temp, lowest=slider_lowest.value)\n",
    "            image_processed.value = to_jpeg_bytes(processed)\n",
    "            image_mask.value = to_jpeg_bytes(mask, is_mask=True)\n",
    "        # --------------------------控制视频的播放速度-----------------------\n",
    "        time.sleep(0.001)\n",
    "\n",
    "# 播放/暂停按钮逻辑\n",
    "# toggle:切换\n",
    "def toggle_play(change):\n",
    "    global playing\n",
    "    playing = change['new']\n",
    "    # 如果正在播放,icon为pause,否则为play\n",
    "    if playing:\n",
    "        toggle_button.icon = 'pause'\n",
    "    else:\n",
    "        toggle_button.icon = 'play'\n",
    "    # -----------------------------等待改进点，如何加强线程管理---------------------\n",
    "    if playing:\n",
    "        threading.Thread(target=play_video, daemon=True).start()\n",
    "\n",
    "# 关闭按钮逻辑\n",
    "def close_video(b):\n",
    "    # 全部关闭\n",
    "    global playing\n",
    "    playing = False\n",
    "    toggle_button.value = False\n",
    "    toggle_button.disabled = True\n",
    "    close_button.disabled = True\n",
    "    slider_red1_v.disabled = True\n",
    "    slider_red2_v.disabled = True\n",
    "    slider_red1_h.disabled = True\n",
    "    slider_red2_h.disabled = True\n",
    "    slider_red1_s.disabled = True\n",
    "    slider_red2_s.disabled = True\n",
    "    cap.release()\n",
    "    # 清除画面\n",
    "    image_processed.value = b''\n",
    "    image_mask.value = b''"
   ],
   "id": "1e9e61d93e0b70a7",
   "outputs": [],
   "execution_count": 28
  },
  {
   "metadata": {},
   "cell_type": "markdown",
   "source": "### 组件设置",
   "id": "d8c98cc5d36cb3be"
  },
  {
   "metadata": {
    "ExecuteTime": {
     "end_time": "2025-05-05T14:47:52.525375Z",
     "start_time": "2025-05-05T14:47:52.501589Z"
    }
   },
   "cell_type": "code",
   "source": [
    "# 视频源\n",
    "cap = cv2.VideoCapture('video/red-green.mp4')\n",
    "if not cap.isOpened():\n",
    "    raise IOError(\"无法打开视频文件\")\n",
    "\n",
    "# -----------------------image控件--------------------------------\n",
    "# 掩膜图像， 和圈出区域后的图像\n",
    "image_processed = widgets.Image(format='jpg', width=640, height=480)\n",
    "image_mask = widgets.Image(format='jpg', width=640, height=480)\n",
    "# ----------------------slider控件--------------------------------\n",
    "# red1和red2的范围\n",
    "slider_red1_h = widgets.IntRangeSlider(value=[0, 15], min=0, max=180, step=1, description='Red1 H:', continuous_update=False)\n",
    "slider_red1_s = widgets.IntRangeSlider(value=[80, 255], min=0, max=255, step=1, description='Red1 S:', continuous_update=False)\n",
    "slider_red1_v = widgets.IntRangeSlider(value=[80, 255], min=0, max=255, step=1, description='Red1 V:', continuous_update=False)\n",
    "slider_red2_h = widgets.IntRangeSlider(value=[165, 180], min=0, max=180, step=1, description='Red2 H:', continuous_update=False)\n",
    "slider_red2_s = widgets.IntRangeSlider(value=[80, 255], min=0, max=255, step=1, description='Red2 S:', continuous_update=False)\n",
    "slider_red2_v = widgets.IntRangeSlider(value=[80, 255], min=0, max=255, step=1, description='Red2 V:', continuous_update=False)\n",
    "# lowest的范围\n",
    "slider_lowest = widgets.IntSlider(value=30, min=0, max=100, step=1, description='LOWEST:', continuous_update=False)\n",
    "\n",
    "# -------------------------------button控件--------------------------\n",
    "# 控制关闭和打开\n",
    "toggle_button = widgets.ToggleButton(value=False, description=\"Play/Pause\", icon='play')\n",
    "close_button = widgets.Button(description=\"关闭\", icon='times', button_style='danger')\n",
    "toggle_button.observe(toggle_play, names='value')\n",
    "close_button.on_click(close_video)\n",
    "# -----------------------------回调函数--------------------------------\n",
    "def refresh_on_change(change=None):\n",
    "    with frame_lock:\n",
    "        current = cap.get(cv2.CAP_PROP_POS_FRAMES)\n",
    "        cap.set(cv2.CAP_PROP_POS_FRAMES, max(0, current - 1))\n",
    "        ret, frame = cap.read()\n",
    "        if ret:\n",
    "            temp = [\n",
    "                [slider_red1_h.value[0], slider_red1_s.value[0],slider_red1_v.value[0]],\n",
    "                [slider_red1_h.value[1], slider_red1_s.value[1],slider_red1_v.value[1]],\n",
    "                [slider_red2_h.value[0], slider_red2_s.value[0],slider_red2_v.value[0]],\n",
    "                [slider_red2_h.value[1], slider_red2_s.value[1],slider_red2_v.value[1]],\n",
    "            ]\n",
    "            processed, mask = process_frame(frame, temp, lowest=slider_lowest.value)\n",
    "            image_processed.value = to_jpeg_bytes(processed)\n",
    "            image_mask.value = to_jpeg_bytes(mask, is_mask=True)\n",
    "# ----------------------------绑定回调函数和控件------------------------\n",
    "for s in [slider_lowest, slider_red1_h, slider_red2_h, slider_red1_s, slider_red1_v,slider_red2_v]:\n",
    "    s.observe(refresh_on_change, names='value')"
   ],
   "id": "f0cfdf45e548dace",
   "outputs": [],
   "execution_count": 29
  },
  {
   "metadata": {},
   "cell_type": "markdown",
   "source": "### 布局",
   "id": "ee1f3b93525b5666"
  },
  {
   "metadata": {
    "ExecuteTime": {
     "end_time": "2025-05-05T14:47:52.854758Z",
     "start_time": "2025-05-05T14:47:52.844648Z"
    }
   },
   "cell_type": "code",
   "source": [
    "group_red1 = widgets.HBox([slider_red1_h, slider_red2_h])\n",
    "group_red2 = widgets.HBox([slider_red1_s, slider_red2_s])\n",
    "group_red3 = widgets.HBox([slider_red1_v, slider_red2_v])\n",
    "button_bar = widgets.HBox([toggle_button, close_button])\n",
    "controls = widgets.VBox([button_bar, slider_lowest, group_red1, group_red2, group_red3])\n",
    "image = widgets.HBox([image_processed, image_mask])"
   ],
   "id": "ff9751e8f3668075",
   "outputs": [],
   "execution_count": 30
  },
  {
   "metadata": {},
   "cell_type": "markdown",
   "source": "### 启动",
   "id": "ce1583e64b10e098"
  },
  {
   "metadata": {
    "ExecuteTime": {
     "end_time": "2025-05-05T14:47:53.343534Z",
     "start_time": "2025-05-05T14:47:53.264334Z"
    }
   },
   "cell_type": "code",
   "source": [
    "display(controls, image)\n",
    "refresh_on_change()"
   ],
   "id": "36c746d380e27e32",
   "outputs": [
    {
     "data": {
      "text/plain": [
       "VBox(children=(HBox(children=(ToggleButton(value=False, description='Play/Pause', icon='play'), Button(button_…"
      ],
      "application/vnd.jupyter.widget-view+json": {
       "version_major": 2,
       "version_minor": 0,
       "model_id": "8d12f60c8dae4842bbdb21f31def2715"
      }
     },
     "metadata": {},
     "output_type": "display_data"
    },
    {
     "data": {
      "text/plain": [
       "HBox(children=(Image(value=b'', format='jpg', height='480', width='640'), Image(value=b'', format='jpg', heigh…"
      ],
      "application/vnd.jupyter.widget-view+json": {
       "version_major": 2,
       "version_minor": 0,
       "model_id": "4423969c4b374998b546b1fc41925cb2"
      }
     },
     "metadata": {},
     "output_type": "display_data"
    }
   ],
   "execution_count": 31
  },
  {
   "metadata": {
    "ExecuteTime": {
     "end_time": "2025-05-05T14:45:34.910249Z",
     "start_time": "2025-05-05T14:45:34.907062Z"
    }
   },
   "cell_type": "code",
   "source": "",
   "id": "2fee2a86b28a07bd",
   "outputs": [],
   "execution_count": null
  },
  {
   "metadata": {
    "ExecuteTime": {
     "end_time": "2025-05-05T14:45:34.951055Z",
     "start_time": "2025-05-05T14:45:34.948363Z"
    }
   },
   "cell_type": "code",
   "source": "",
   "id": "3f261e7ad382c1d7",
   "outputs": [],
   "execution_count": null
  },
  {
   "metadata": {
    "ExecuteTime": {
     "end_time": "2025-05-05T14:45:35.050163Z",
     "start_time": "2025-05-05T14:45:35.046820Z"
    }
   },
   "cell_type": "code",
   "source": "",
   "id": "14db8291c9d890fd",
   "outputs": [],
   "execution_count": null
  },
  {
   "metadata": {
    "ExecuteTime": {
     "end_time": "2025-05-05T14:45:35.135084Z",
     "start_time": "2025-05-05T14:45:35.131733Z"
    }
   },
   "cell_type": "code",
   "source": "",
   "id": "f41d8cc1c987d50b",
   "outputs": [],
   "execution_count": null
  },
  {
   "metadata": {
    "ExecuteTime": {
     "end_time": "2025-05-05T14:45:35.172705Z",
     "start_time": "2025-05-05T14:45:35.170757Z"
    }
   },
   "cell_type": "code",
   "source": "",
   "id": "8db6c084d8ac4aa5",
   "outputs": [],
   "execution_count": null
  },
  {
   "metadata": {
    "ExecuteTime": {
     "end_time": "2025-05-05T14:45:35.217659Z",
     "start_time": "2025-05-05T14:45:35.216032Z"
    }
   },
   "cell_type": "code",
   "source": "",
   "id": "404d2c168ddbc6f3",
   "outputs": [],
   "execution_count": null
  },
  {
   "metadata": {
    "ExecuteTime": {
     "end_time": "2025-05-05T14:45:35.235789Z",
     "start_time": "2025-05-05T14:45:35.233209Z"
    }
   },
   "cell_type": "code",
   "source": "",
   "id": "f32124a9cc12bb77",
   "outputs": [],
   "execution_count": null
  },
  {
   "metadata": {
    "ExecuteTime": {
     "end_time": "2025-05-05T14:45:35.249558Z",
     "start_time": "2025-05-05T14:45:35.247190Z"
    }
   },
   "cell_type": "code",
   "source": "",
   "id": "7026f8b67ccccbb6",
   "outputs": [],
   "execution_count": null
  },
  {
   "metadata": {
    "ExecuteTime": {
     "end_time": "2025-05-05T14:45:35.307204Z",
     "start_time": "2025-05-05T14:45:35.303840Z"
    }
   },
   "cell_type": "code",
   "source": "",
   "id": "4e563a7fc26c767e",
   "outputs": [],
   "execution_count": null
  },
  {
   "metadata": {},
   "cell_type": "code",
   "outputs": [],
   "execution_count": null,
   "source": "",
   "id": "92ddf5404d781262"
  }
 ],
 "metadata": {
  "kernelspec": {
   "display_name": "Python 3",
   "language": "python",
   "name": "python3"
  },
  "language_info": {
   "codemirror_mode": {
    "name": "ipython",
    "version": 2
   },
   "file_extension": ".py",
   "mimetype": "text/x-python",
   "name": "python",
   "nbconvert_exporter": "python",
   "pygments_lexer": "ipython2",
   "version": "2.7.6"
  }
 },
 "nbformat": 4,
 "nbformat_minor": 5
}
