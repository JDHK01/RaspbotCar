{
 "cells": [
  {
   "cell_type": "code",
   "id": "initial_id",
   "metadata": {
    "ExecuteTime": {
     "end_time": "2025-05-05T11:49:06.921704Z",
     "start_time": "2025-05-05T11:49:06.918802Z"
    }
   },
   "source": "import cv2",
   "outputs": [],
   "execution_count": 3
  },
  {
   "cell_type": "markdown",
   "id": "2fbd2b0e-ec87-41ef-8ab5-523ca041c838",
   "metadata": {},
   "source": [
    "# 播放视频：按下 q 退出，按下 s 保存"
   ]
  },
  {
   "cell_type": "code",
   "id": "42050cb36d4d9f7e",
   "metadata": {
    "ExecuteTime": {
     "end_time": "2025-05-05T11:49:13.376004Z",
     "start_time": "2025-05-05T11:49:07.866009Z"
    }
   },
   "source": [
    "cap = cv2.VideoCapture(r'video/red-green.mp4')\n",
    "if not cap.isOpened():\n",
    "    print(\"无法打开摄像头\")\n",
    "    exit()\n",
    "# 方便图片命名\n",
    "i = 0\n",
    "try:\n",
    "    while True:\n",
    "        ret, frame = cap.read()\n",
    "        if not ret:\n",
    "            print(\"警告：无法从摄像头读取帧\")\n",
    "            break\n",
    "        cv2.imshow('monitor',frame)\n",
    "         # 按 s 保存当前帧，按 q 退出\n",
    "        # ------------------------调整播放帧数------------------------\n",
    "        key = cv2.waitKey(10) & 0xFF\n",
    "        if key == ord('s'):\n",
    "            cv2.imwrite(f'picture/{i}.png', frame)\n",
    "            print(f'保存图片{i}.png')\n",
    "            i += 1\n",
    "        elif key == ord('q'):\n",
    "            break\n",
    "except Exception as e:\n",
    "    print(f\"发生异常：{e}\")\n",
    "finally:\n",
    "    # 确保资源释放\n",
    "    cap.release()\n",
    "    cv2.destroyAllWindows()"
   ],
   "outputs": [
    {
     "name": "stdout",
     "output_type": "stream",
     "text": [
      "警告：无法从摄像头读取帧\n"
     ]
    }
   ],
   "execution_count": 4
  },
  {
   "cell_type": "code",
   "execution_count": null,
   "id": "a34bc56e251d36b7",
   "metadata": {},
   "outputs": [],
   "source": []
  }
 ],
 "metadata": {
  "kernelspec": {
   "display_name": "Python 3 (ipykernel)",
   "language": "python",
   "name": "python3"
  },
  "language_info": {
   "codemirror_mode": {
    "name": "ipython",
    "version": 3
   },
   "file_extension": ".py",
   "mimetype": "text/x-python",
   "name": "python",
   "nbconvert_exporter": "python",
   "pygments_lexer": "ipython3",
   "version": "3.12.9"
  }
 },
 "nbformat": 4,
 "nbformat_minor": 5
}
